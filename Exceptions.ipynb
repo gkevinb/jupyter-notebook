{
 "cells": [
  {
   "cell_type": "markdown",
   "metadata": {},
   "source": [
    "# Exceptions\n",
    "\n",
    "Exceptions occur when something goes wrong, due to incorrect code or input.\n",
    "\n",
    "## Common exceptions\n",
    "- `ImportError` : an import fails\n",
    "- `IndexError` : a list is indexed with an out-of-range number\n",
    "- `NameError` : an unkown variable is used\n",
    "- `SyntaxError` : the code can't be parsed properly\n",
    "- `TypeError` : a function is called on a value of an inappropriate type\n",
    "- `KeyError` : a key is used in a dictionary that doesn't exist\n",
    "- `ValueError` : a function is called on a value of the correct type, but with an inappropriate value\n",
    "- `ZeroDivisionError` : divide by zero"
   ]
  },
  {
   "cell_type": "code",
   "execution_count": 37,
   "metadata": {},
   "outputs": [
    {
     "name": "stdout",
     "output_type": "stream",
     "text": [
      "Out of index : list index out of range\n"
     ]
    }
   ],
   "source": [
    "try:\n",
    "    a = [0, 1, 2]\n",
    "    b = a[4]\n",
    "except IndexError as e:\n",
    "    print('Out of index : {}'.format(e))"
   ]
  },
  {
   "cell_type": "code",
   "execution_count": 21,
   "metadata": {},
   "outputs": [
    {
     "name": "stdout",
     "output_type": "stream",
     "text": [
      "No such variable name : name 'b' is not defined\n"
     ]
    }
   ],
   "source": [
    "try:\n",
    "    a = b\n",
    "except NameError as e:\n",
    "    print('No such variable name : {}'.format(e))"
   ]
  },
  {
   "cell_type": "code",
   "execution_count": 22,
   "metadata": {},
   "outputs": [
    {
     "ename": "SyntaxError",
     "evalue": "invalid syntax (<ipython-input-22-74dea13dfd63>, line 3)",
     "output_type": "error",
     "traceback": [
      "\u001b[0;36m  File \u001b[0;32m\"<ipython-input-22-74dea13dfd63>\"\u001b[0;36m, line \u001b[0;32m3\u001b[0m\n\u001b[0;31m    b = a[]\u001b[0m\n\u001b[0m          ^\u001b[0m\n\u001b[0;31mSyntaxError\u001b[0m\u001b[0;31m:\u001b[0m invalid syntax\n"
     ]
    }
   ],
   "source": [
    "try:\n",
    "    a = [0, 1, 2]\n",
    "    b = a[]\n",
    "except SyntaxError as e:\n",
    "    print('Syntax incorrect : {}'.format(e))"
   ]
  },
  {
   "cell_type": "code",
   "execution_count": 18,
   "metadata": {},
   "outputs": [
    {
     "name": "stdout",
     "output_type": "stream",
     "text": [
      "Using wrong Type : list indices must be integers or slices, not str\n"
     ]
    }
   ],
   "source": [
    "try:\n",
    "    a = [0, 1, 2]\n",
    "    b = a['0']\n",
    "except TypeError as e:\n",
    "    print('Using wrong Type : {}'.format(e))"
   ]
  },
  {
   "cell_type": "code",
   "execution_count": 29,
   "metadata": {},
   "outputs": [
    {
     "name": "stdout",
     "output_type": "stream",
     "text": [
      "Using wrong Key for dictionary : 'c'\n"
     ]
    }
   ],
   "source": [
    "try:\n",
    "    d = {'a': 1, 'b': 2}\n",
    "    b = d['c']\n",
    "except KeyError as e:\n",
    "    print('Using wrong Key for dictionary : {}'.format(e))"
   ]
  },
  {
   "cell_type": "code",
   "execution_count": 38,
   "metadata": {},
   "outputs": [
    {
     "name": "stdout",
     "output_type": "stream",
     "text": [
      "Using wrong Value : invalid literal for int() with base 10: 'dog'\n"
     ]
    }
   ],
   "source": [
    "try:\n",
    "    a = int('dog')\n",
    "except ValueError as e:\n",
    "    print('Using wrong Value : {}'.format(e))"
   ]
  },
  {
   "cell_type": "code",
   "execution_count": 32,
   "metadata": {},
   "outputs": [
    {
     "name": "stdout",
     "output_type": "stream",
     "text": [
      "Can't divide by zero : division by zero\n"
     ]
    }
   ],
   "source": [
    "try:\n",
    "    a = 12 / 0\n",
    "except ZeroDivisionError as e:\n",
    "    print(\"Can't divide by zero : {}\".format(e))"
   ]
  }
 ],
 "metadata": {
  "kernelspec": {
   "display_name": "Python 3",
   "language": "python",
   "name": "python3"
  },
  "language_info": {
   "codemirror_mode": {
    "name": "ipython",
    "version": 3
   },
   "file_extension": ".py",
   "mimetype": "text/x-python",
   "name": "python",
   "nbconvert_exporter": "python",
   "pygments_lexer": "ipython3",
   "version": "3.7.4"
  },
  "widgets": {
   "application/vnd.jupyter.widget-state+json": {
    "state": {},
    "version_major": 2,
    "version_minor": 0
   }
  }
 },
 "nbformat": 4,
 "nbformat_minor": 2
}
