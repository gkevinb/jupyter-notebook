{
 "cells": [
  {
   "cell_type": "markdown",
   "metadata": {},
   "source": [
    "# Project Euler\n",
    "\n"
   ]
  },
  {
   "cell_type": "markdown",
   "metadata": {},
   "source": [
    "# 1: Multiples of 3 and 5\n",
    "\n",
    "https://en.wikipedia.org/wiki/Arithmetic_progression#Sum\n",
    "\n",
    "https://www.mathwords.com/a/arithmetic_series.htm"
   ]
  },
  {
   "cell_type": "code",
   "execution_count": 4,
   "metadata": {},
   "outputs": [
    {
     "name": "stdout",
     "output_type": "stream",
     "text": [
      "1\n",
      "10\n",
      "23\n"
     ]
    }
   ],
   "source": [
    "import sys\n",
    "\n",
    "def solution(n):\n",
    "    return sum([i for i in range(3,n) if i % 3==0 or i % 5==0])\n",
    "\n",
    "t = int(input().strip())\n",
    "for a0 in range(t):\n",
    "    n = int(input().strip())\n",
    "    print(solution(n))\n"
   ]
  },
  {
   "cell_type": "code",
   "execution_count": 2,
   "metadata": {},
   "outputs": [
    {
     "name": "stdout",
     "output_type": "stream",
     "text": [
      "1\n",
      "1000\n",
      "233168\n"
     ]
    }
   ],
   "source": [
    "import sys\n",
    "\n",
    "def arithmetic_series(i, n):\n",
    "    multiple = (n - 1) // i\n",
    "    a1 = i\n",
    "    an = i * multiple\n",
    "    return multiple * (a1 + an) // 2\n",
    "\n",
    "def solution(n):\n",
    "    return arithmetic_series(3, n) + arithmetic_series(5, n) - arithmetic_series(15, n)\n",
    "\n",
    "t = int(input().strip())\n",
    "for a0 in range(t):\n",
    "    n = int(input().strip())\n",
    "    print(solution(n))\n"
   ]
  },
  {
   "cell_type": "markdown",
   "metadata": {},
   "source": [
    "# 2: Even Fibonacci numbers\n",
    "\n",
    "https://rosettacode.org/wiki/Fibonacci_sequence#Python"
   ]
  },
  {
   "cell_type": "code",
   "execution_count": 1,
   "metadata": {},
   "outputs": [
    {
     "name": "stdout",
     "output_type": "stream",
     "text": [
      "1\n",
      "34\n",
      "10\n"
     ]
    }
   ],
   "source": [
    "import sys\n",
    "\n",
    "def solution(n):\n",
    "    terms = [1, 2]\n",
    "    sum_of_evens = 0\n",
    "\n",
    "    while terms[1] < n:\n",
    "        if terms[1] % 2 == 0:\n",
    "            sum_of_evens += terms[1]\n",
    "        terms = [terms[1], sum(terms)]\n",
    "\n",
    "    return sum_of_evens\n",
    "\n",
    "t = int(input().strip())\n",
    "for a0 in range(t):\n",
    "    n = int(input().strip())\n",
    "\n",
    "    print(solution(n))"
   ]
  },
  {
   "cell_type": "markdown",
   "metadata": {},
   "source": [
    "# 3: Largest prime factor"
   ]
  },
  {
   "cell_type": "code",
   "execution_count": null,
   "metadata": {},
   "outputs": [],
   "source": [
    "import sys\n",
    "\n",
    "t = int(input().strip())\n",
    "for a0 in range(t):\n",
    "    n = int(input().strip())\n",
    "\n",
    "    largest_prime_factor = 0\n",
    "    i = 1\n",
    "    while i < n:\n",
    "        i += 1\n",
    "        while n % i == 0:\n",
    "            largest_prime_factor = i\n",
    "            n //= i\n",
    "    print(largest_prime_factor)\n"
   ]
  },
  {
   "cell_type": "code",
   "execution_count": null,
   "metadata": {},
   "outputs": [],
   "source": [
    "    i = 2\n",
    "    while i * i <= n:\n",
    "        if n % i:\n",
    "            i += 1\n",
    "        else:\n",
    "            n //= i\n",
    "    print(n)"
   ]
  },
  {
   "cell_type": "markdown",
   "metadata": {},
   "source": [
    "# 4: Largest palindrome product\n",
    "\n",
    "https://nedbatchelder.com/blog/201203/breaking_out_of_two_loops_at_once.html"
   ]
  },
  {
   "cell_type": "code",
   "execution_count": null,
   "metadata": {},
   "outputs": [],
   "source": [
    "import sys\n",
    "\n",
    "def is_palindrome(x):\n",
    "    s = str(x)\n",
    "    return s == s[::-1]\n",
    "\n",
    "def is_3_digit(x):\n",
    "    return len(str(x)) == 3\n",
    "\n",
    "t = int(input().strip())\n",
    "for a0 in range(t):\n",
    "    n = int(input().strip())\n",
    "\n",
    "    done = False\n",
    "    largest_palindrome = 0\n",
    "    for i in range(n - 1, 101100, -1):\n",
    "        if is_palindrome(i):\n",
    "            for j in range(999, 99, -1):\n",
    "                if i % j == 0 and is_3_digit(j) and is_3_digit(i//j):\n",
    "                    largest_palindrome = i\n",
    "                    done = True\n",
    "                    break\n",
    "            if done:\n",
    "                break\n",
    "\n",
    "    print(largest_palindrome)"
   ]
  }
 ],
 "metadata": {
  "kernelspec": {
   "display_name": "Python 3",
   "language": "python",
   "name": "python3"
  },
  "language_info": {
   "codemirror_mode": {
    "name": "ipython",
    "version": 3
   },
   "file_extension": ".py",
   "mimetype": "text/x-python",
   "name": "python",
   "nbconvert_exporter": "python",
   "pygments_lexer": "ipython3",
   "version": "3.7.4"
  }
 },
 "nbformat": 4,
 "nbformat_minor": 2
}
