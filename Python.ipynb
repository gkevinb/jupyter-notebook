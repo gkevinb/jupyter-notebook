{
 "cells": [
  {
   "cell_type": "markdown",
   "metadata": {},
   "source": [
    "# Python Notebook\n",
    "\n"
   ]
  },
  {
   "cell_type": "code",
   "execution_count": 5,
   "metadata": {},
   "outputs": [
    {
     "name": "stdout",
     "output_type": "stream",
     "text": [
      "Hello\n",
      "256\n",
      "[1, 4, 27]\n"
     ]
    }
   ],
   "source": [
    "print(\"Hello\")\n",
    "\n",
    "a = lambda x : x**x\n",
    "print(a(4))\n",
    "b = [1, 2, 3]\n",
    "a = list(map(lambda x : x**x, b))\n",
    "print(a)"
   ]
  },
  {
   "cell_type": "code",
   "execution_count": 1,
   "metadata": {},
   "outputs": [
    {
     "name": "stdout",
     "output_type": "stream",
     "text": [
      "abcdef\n"
     ]
    }
   ],
   "source": [
    "class One:\n",
    "    def __init__(self, x):\n",
    "        self.x = x\n",
    "    \n",
    "    def method(self):\n",
    "        print(self.x)\n",
    "\n",
    "one = One('abcdef')\n",
    "one.method()"
   ]
  }
 ],
 "metadata": {
  "kernelspec": {
   "display_name": "Python 3",
   "language": "python",
   "name": "python3"
  },
  "language_info": {
   "codemirror_mode": {
    "name": "ipython",
    "version": 3
   },
   "file_extension": ".py",
   "mimetype": "text/x-python",
   "name": "python",
   "nbconvert_exporter": "python",
   "pygments_lexer": "ipython3",
   "version": "3.7.4"
  }
 },
 "nbformat": 4,
 "nbformat_minor": 2
}
