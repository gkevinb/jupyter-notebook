{
 "cells": [
  {
   "cell_type": "markdown",
   "metadata": {},
   "source": [
    "# Python Class\n",
    "\n",
    "\n",
    "## Attributes\n",
    "\n",
    "\n",
    "### Class attributes vs Instance attributes\n",
    "\n",
    "Class attribute are shared across all instances of the class and the class itself, while instance attributes are only tied to one specific instance of the class."
   ]
  },
  {
   "cell_type": "code",
   "execution_count": 2,
   "metadata": {},
   "outputs": [
    {
     "name": "stdout",
     "output_type": "stream",
     "text": [
      "Class attr: 4 and Instance attr: 5\n",
      "4\n",
      "{'__module__': '__main__', 'class_attr': 4, '__init__': <function Person.__init__ at 0x104d60c20>, '__str__': <function Person.__str__ at 0x104d87050>, '__dict__': <attribute '__dict__' of 'Person' objects>, '__weakref__': <attribute '__weakref__' of 'Person' objects>, '__doc__': None}\n",
      "{'instance_attr': 5}\n"
     ]
    }
   ],
   "source": [
    "class Person:\n",
    "    class_attr = 4\n",
    "    def __init__(self, inst_attr):\n",
    "        self.instance_attr = inst_attr\n",
    "    def __str__(self):\n",
    "        return \"Class attr: {} and Instance attr: {}\".format(self.class_attr, self.instance_attr)\n",
    "    \n",
    "p = Person(5)\n",
    "print(p)\n",
    "print(Person.class_attr)\n",
    "print(Person.__dict__)\n",
    "print(p.__dict__)\n",
    "    "
   ]
  },
  {
   "cell_type": "markdown",
   "metadata": {},
   "source": [
    "# List Comprehension"
   ]
  },
  {
   "cell_type": "code",
   "execution_count": 4,
   "metadata": {},
   "outputs": [
    {
     "name": "stdout",
     "output_type": "stream",
     "text": [
      "[0, 4, 16, 36, 64]\n"
     ]
    }
   ],
   "source": [
    "even = [i**2 for i in range(0, 10) if i%2 == 0]\n",
    "print(even)"
   ]
  }
 ],
 "metadata": {
  "kernelspec": {
   "display_name": "Python 3",
   "language": "python",
   "name": "python3"
  },
  "language_info": {
   "codemirror_mode": {
    "name": "ipython",
    "version": 3
   },
   "file_extension": ".py",
   "mimetype": "text/x-python",
   "name": "python",
   "nbconvert_exporter": "python",
   "pygments_lexer": "ipython3",
   "version": "3.7.4"
  }
 },
 "nbformat": 4,
 "nbformat_minor": 2
}
